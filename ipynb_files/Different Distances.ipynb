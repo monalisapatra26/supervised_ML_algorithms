{
 "cells": [
  {
   "cell_type": "markdown",
   "id": "d46211be",
   "metadata": {},
   "source": [
    "Euclidean Distance"
   ]
  },
  {
   "cell_type": "code",
   "execution_count": 4,
   "id": "1e8b9598",
   "metadata": {},
   "outputs": [
    {
     "name": "stdout",
     "output_type": "stream",
     "text": [
      "6.082762530298219\n"
     ]
    }
   ],
   "source": [
    "# calculating euclidean distance between vectors\n",
    "from math import sqrt\n",
    " \n",
    "# calculate euclidean distance\n",
    "def euclidean_distance(a, b):\n",
    "    return sqrt(sum((e1-e2)**2 for e1, e2 in zip(a,b)))\n",
    " \n",
    "# define data\n",
    "row1 = [10, 20, 15, 10, 5]\n",
    "row2 = [12, 24, 18, 8, 7]\n",
    "# calculate distance\n",
    "dist = euclidean_distance(row1, row2)\n",
    "print(dist)"
   ]
  },
  {
   "cell_type": "code",
   "execution_count": 5,
   "id": "5a938516",
   "metadata": {},
   "outputs": [
    {
     "data": {
      "text/plain": [
       "((10, 20, 15, 10, 5), (12, 24, 18, 8, 7))"
      ]
     },
     "execution_count": 5,
     "metadata": {},
     "output_type": "execute_result"
    }
   ],
   "source": [
    "# importing the library\n",
    "from scipy.spatial import distance\n",
    "\n",
    "# defining the points\n",
    "point_1 = (10, 20, 15, 10, 5)\n",
    "point_2 = (12, 24, 18, 8, 7)\n",
    "point_1, point_2"
   ]
  },
  {
   "cell_type": "code",
   "execution_count": 6,
   "id": "f9a03d1e",
   "metadata": {},
   "outputs": [
    {
     "name": "stdout",
     "output_type": "stream",
     "text": [
      "Euclidean Distance b/w (10, 20, 15, 10, 5) and (12, 24, 18, 8, 7) is:  6.082762530298219\n"
     ]
    }
   ],
   "source": [
    "# computing the euclidean distance\n",
    "euclidean_distance = distance.euclidean(point_1, point_2)\n",
    "print('Euclidean Distance b/w', point_1, 'and', point_2, 'is: ', euclidean_distance)"
   ]
  },
  {
   "cell_type": "markdown",
   "id": "7e74037c",
   "metadata": {},
   "source": [
    "Manhattan Distance"
   ]
  },
  {
   "cell_type": "code",
   "execution_count": 7,
   "id": "48fed3bf",
   "metadata": {},
   "outputs": [
    {
     "name": "stdout",
     "output_type": "stream",
     "text": [
      "13\n"
     ]
    }
   ],
   "source": [
    "# calculating manhattan distance between vectors\n",
    "from math import sqrt\n",
    " \n",
    "# calculate manhattan distance\n",
    "def manhattan_distance(a, b):\n",
    "    return sum(abs(e1-e2) for e1, e2 in zip(a,b))\n",
    " \n",
    "# define data\n",
    "row1 = [10, 20, 15, 10, 5]\n",
    "row2 = [12, 24, 18, 8, 7]\n",
    "# calculate distance\n",
    "dist = manhattan_distance(row1, row2)\n",
    "print(dist)"
   ]
  },
  {
   "cell_type": "code",
   "execution_count": 8,
   "id": "d132d432",
   "metadata": {},
   "outputs": [
    {
     "name": "stdout",
     "output_type": "stream",
     "text": [
      "Manhattan Distance b/w (10, 20, 15, 10, 5) and (12, 24, 18, 8, 7) is:  13\n"
     ]
    }
   ],
   "source": [
    "# computing the manhattan distance\n",
    "manhattan_distance = distance.cityblock(point_1, point_2)\n",
    "print('Manhattan Distance b/w', point_1, 'and', point_2, 'is: ', manhattan_distance)"
   ]
  },
  {
   "cell_type": "markdown",
   "id": "16815051",
   "metadata": {},
   "source": [
    "Minkowski Distance"
   ]
  },
  {
   "cell_type": "code",
   "execution_count": 9,
   "id": "443c2068",
   "metadata": {},
   "outputs": [
    {
     "name": "stdout",
     "output_type": "stream",
     "text": [
      "13.0\n",
      "6.082762530298219\n"
     ]
    }
   ],
   "source": [
    "from math import sqrt\n",
    " \n",
    "# calculate minkowski distance\n",
    "def minkowski_distance(a, b, p):\n",
    "    return sum(abs(e1-e2)**p for e1, e2 in zip(a,b))**(1/p)\n",
    " \n",
    "# define data\n",
    "row1 = [10, 20, 15, 10, 5]\n",
    "row2 = [12, 24, 18, 8, 7]\n",
    "# calculate distance (p=1)\n",
    "dist = minkowski_distance(row1, row2, 1)\n",
    "print(dist)\n",
    "# calculate distance (p=2)\n",
    "dist = minkowski_distance(row1, row2, 2)\n",
    "print(dist)"
   ]
  },
  {
   "cell_type": "code",
   "execution_count": 11,
   "id": "45c46797",
   "metadata": {},
   "outputs": [
    {
     "name": "stdout",
     "output_type": "stream",
     "text": [
      "Minkowski Distance b/w (10, 20, 15, 10, 5) and (12, 24, 18, 8, 7) is:  13.0\n"
     ]
    }
   ],
   "source": [
    "# computing the minkowski distance\n",
    "minkowski_distance = distance.minkowski(point_1, point_2, p=1)\n",
    "print('Minkowski Distance b/w', point_1, 'and', point_2, 'is: ', minkowski_distance)"
   ]
  },
  {
   "cell_type": "markdown",
   "id": "0b94df26",
   "metadata": {},
   "source": [
    "Cosine Similarity"
   ]
  },
  {
   "cell_type": "code",
   "execution_count": 1,
   "id": "4bb14ac0",
   "metadata": {},
   "outputs": [
    {
     "name": "stdout",
     "output_type": "stream",
     "text": [
      "Cosine Similarity between A and B:0.7241379310344827\n",
      "Cosine Distance between A and B:0.27586206896551735\n"
     ]
    }
   ],
   "source": [
    "import numpy as np\n",
    "import matplotlib.pyplot as plt\n",
    "# consider two vectors A and B in 2-D\n",
    "A=np.array([7,3])\n",
    "B=np.array([3,7])\n",
    "\n",
    "# cosine similarity between A and B\n",
    "cos_sim=np.dot(A,B)/(np.linalg.norm(A)*np.linalg.norm(B))\n",
    "print (f\"Cosine Similarity between A and B:{cos_sim}\")\n",
    "print (f\"Cosine Distance between A and B:{1-cos_sim}\")"
   ]
  },
  {
   "cell_type": "code",
   "execution_count": 2,
   "id": "cc8a3a63",
   "metadata": {},
   "outputs": [
    {
     "name": "stdout",
     "output_type": "stream",
     "text": [
      "Cosine Similarity between A and B:[[0.72413793]]\n",
      "Cosine Distance between A and B:[[0.27586207]]\n"
     ]
    }
   ],
   "source": [
    "# using sklearn to calculate cosine similarity\n",
    "from sklearn.metrics.pairwise import cosine_similarity,cosine_distances\n",
    "cos_sim=cosine_similarity(A.reshape(1,-1),B.reshape(1,-1))\n",
    "print (f\"Cosine Similarity between A and B:{cos_sim}\")\n",
    "print (f\"Cosine Distance between A and B:{1-cos_sim}\")"
   ]
  },
  {
   "cell_type": "code",
   "execution_count": null,
   "id": "77f9dfd7",
   "metadata": {},
   "outputs": [],
   "source": [
    "#a = numpy.matrix([[1, 2, 3, 4], [5, 6, 7, 8]])\n",
    "#b = numpy.reshape(a, -1)"
   ]
  },
  {
   "cell_type": "markdown",
   "id": "ae53e27c",
   "metadata": {},
   "source": [
    "Hamming Distance"
   ]
  },
  {
   "cell_type": "code",
   "execution_count": 12,
   "id": "8a8d058f",
   "metadata": {},
   "outputs": [],
   "source": [
    "# defining two strings\n",
    "string_1 = 'euclidean'\n",
    "string_2 = 'manhattan'"
   ]
  },
  {
   "cell_type": "code",
   "execution_count": 13,
   "id": "9c2edf84",
   "metadata": {},
   "outputs": [
    {
     "name": "stdout",
     "output_type": "stream",
     "text": [
      "Hamming Distance b/w euclidean and manhattan is:  7.0\n"
     ]
    }
   ],
   "source": [
    "# computing the hamming distance\n",
    "hamming_distance = distance.hamming(list(string_1), list(string_2))*len(string_1)\n",
    "print('Hamming Distance b/w', string_1, 'and', string_2, 'is: ', hamming_distance)"
   ]
  },
  {
   "cell_type": "code",
   "execution_count": null,
   "id": "75abe08d",
   "metadata": {},
   "outputs": [],
   "source": []
  }
 ],
 "metadata": {
  "kernelspec": {
   "display_name": "Python 3",
   "language": "python",
   "name": "python3"
  },
  "language_info": {
   "codemirror_mode": {
    "name": "ipython",
    "version": 3
   },
   "file_extension": ".py",
   "mimetype": "text/x-python",
   "name": "python",
   "nbconvert_exporter": "python",
   "pygments_lexer": "ipython3",
   "version": "3.8.8"
  }
 },
 "nbformat": 4,
 "nbformat_minor": 5
}
